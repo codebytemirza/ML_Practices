{
  "nbformat": 4,
  "nbformat_minor": 0,
  "metadata": {
    "colab": {
      "provenance": [],
      "authorship_tag": "ABX9TyPTmKy0DrfMps+5gNb4KnQg",
      "include_colab_link": true
    },
    "kernelspec": {
      "name": "python3",
      "display_name": "Python 3"
    },
    "language_info": {
      "name": "python"
    }
  },
  "cells": [
    {
      "cell_type": "markdown",
      "metadata": {
        "id": "view-in-github",
        "colab_type": "text"
      },
      "source": [
        "<a href=\"https://colab.research.google.com/github/codebytemirza/ML_practices/blob/main/numpy_ML_learning.ipynb\" target=\"_parent\"><img src=\"https://colab.research.google.com/assets/colab-badge.svg\" alt=\"Open In Colab\"/></a>"
      ]
    },
    {
      "cell_type": "markdown",
      "source": [
        "# **How to install numpy**"
      ],
      "metadata": {
        "id": "Md_PVZGf7qqY"
      }
    },
    {
      "cell_type": "code",
      "source": [
        "!pip install numpy"
      ],
      "metadata": {
        "colab": {
          "base_uri": "https://localhost:8080/"
        },
        "id": "7dSMNEgu7xks",
        "outputId": "d50e0684-381d-44b4-8c1b-4dd415329bc4"
      },
      "execution_count": 2,
      "outputs": [
        {
          "output_type": "stream",
          "name": "stdout",
          "text": [
            "Requirement already satisfied: numpy in /usr/local/lib/python3.10/dist-packages (1.26.4)\n"
          ]
        }
      ]
    },
    {
      "cell_type": "markdown",
      "source": [
        "# **How to import numpy**\n"
      ],
      "metadata": {
        "id": "JnDWXC_v73zd"
      }
    },
    {
      "cell_type": "code",
      "execution_count": 3,
      "metadata": {
        "id": "17nlz7il5DPC"
      },
      "outputs": [],
      "source": [
        "import numpy as np"
      ]
    },
    {
      "cell_type": "markdown",
      "source": [
        "# **Create the numpy array**\n",
        "\n",
        "\n",
        "1.   1 dimensional Array\n",
        "2.   2 dimensional Array\n",
        "\n"
      ],
      "metadata": {
        "id": "OXGpKz018iVY"
      }
    },
    {
      "cell_type": "code",
      "source": [
        "#one diemnsional array\n",
        "a = np.array([1,2,3,4,5])\n",
        "print(a)"
      ],
      "metadata": {
        "colab": {
          "base_uri": "https://localhost:8080/"
        },
        "id": "m2KUg4-g8v78",
        "outputId": "a8e30096-6bba-4159-b94b-05820628f397"
      },
      "execution_count": 4,
      "outputs": [
        {
          "output_type": "stream",
          "name": "stdout",
          "text": [
            "[1 2 3 4 5]\n"
          ]
        }
      ]
    },
    {
      "cell_type": "code",
      "source": [
        "#two dimensional array\n",
        "b = np.array([[1,2,3,4],[5,6,7,8]])\n",
        "print(b)"
      ],
      "metadata": {
        "colab": {
          "base_uri": "https://localhost:8080/"
        },
        "id": "bbzvSO4E8-9O",
        "outputId": "39d3b9e5-67b7-4d63-f500-e0e5ec1f82d3"
      },
      "execution_count": 5,
      "outputs": [
        {
          "output_type": "stream",
          "name": "stdout",
          "text": [
            "[[1 2 3 4]\n",
            " [5 6 7 8]]\n"
          ]
        }
      ]
    },
    {
      "cell_type": "markdown",
      "source": [
        "# **Check Dimensions of np array**"
      ],
      "metadata": {
        "id": "TJsQwPJf9O8l"
      }
    },
    {
      "cell_type": "code",
      "source": [
        "a.ndim  #as it is one dimensional array"
      ],
      "metadata": {
        "colab": {
          "base_uri": "https://localhost:8080/"
        },
        "id": "GwhM9MaC9X_c",
        "outputId": "04ef9882-48a3-4299-8621-90fecec9ca48"
      },
      "execution_count": 6,
      "outputs": [
        {
          "output_type": "execute_result",
          "data": {
            "text/plain": [
              "1"
            ]
          },
          "metadata": {},
          "execution_count": 6
        }
      ]
    },
    {
      "cell_type": "code",
      "source": [
        "b.ndim #as it is two dimensional array"
      ],
      "metadata": {
        "colab": {
          "base_uri": "https://localhost:8080/"
        },
        "id": "K3_QfGzh9gxy",
        "outputId": "fd1058cc-2899-45ce-dab3-d6082de0b092"
      },
      "execution_count": 7,
      "outputs": [
        {
          "output_type": "execute_result",
          "data": {
            "text/plain": [
              "2"
            ]
          },
          "metadata": {},
          "execution_count": 7
        }
      ]
    },
    {
      "cell_type": "markdown",
      "source": [
        "# **Check size of np array**\n",
        "\n",
        "\n",
        "> it shows how much elements are there in a matrix\n"
      ],
      "metadata": {
        "id": "XFEKAQCk9wqk"
      }
    },
    {
      "cell_type": "code",
      "source": [
        "a.size #it shows how much elements are there in a matrix"
      ],
      "metadata": {
        "colab": {
          "base_uri": "https://localhost:8080/"
        },
        "id": "N6iYmD0J92Bd",
        "outputId": "05994771-3c77-434a-8889-23e366d9e0d6"
      },
      "execution_count": 8,
      "outputs": [
        {
          "output_type": "execute_result",
          "data": {
            "text/plain": [
              "5"
            ]
          },
          "metadata": {},
          "execution_count": 8
        }
      ]
    },
    {
      "cell_type": "code",
      "source": [
        "b.size"
      ],
      "metadata": {
        "colab": {
          "base_uri": "https://localhost:8080/"
        },
        "id": "1kfTQaVo93SR",
        "outputId": "90d2c07b-beac-4e3a-92a7-b60134fa30de"
      },
      "execution_count": 9,
      "outputs": [
        {
          "output_type": "execute_result",
          "data": {
            "text/plain": [
              "8"
            ]
          },
          "metadata": {},
          "execution_count": 9
        }
      ]
    },
    {
      "cell_type": "markdown",
      "source": [
        "# **Shape of the np matrix**\n",
        "\n",
        "\n",
        "> rows and columns in a matrix\n",
        "\n"
      ],
      "metadata": {
        "id": "Egadr10w-R4-"
      }
    },
    {
      "cell_type": "code",
      "source": [
        "a.shape #it shows rows and columns in a matrix"
      ],
      "metadata": {
        "colab": {
          "base_uri": "https://localhost:8080/"
        },
        "id": "lARcMC35-e5m",
        "outputId": "538295ac-4b21-4df4-9a06-3aa06fb5b2ae"
      },
      "execution_count": 10,
      "outputs": [
        {
          "output_type": "execute_result",
          "data": {
            "text/plain": [
              "(5,)"
            ]
          },
          "metadata": {},
          "execution_count": 10
        }
      ]
    },
    {
      "cell_type": "code",
      "source": [
        "b.shape"
      ],
      "metadata": {
        "colab": {
          "base_uri": "https://localhost:8080/"
        },
        "id": "rjAcnvNe-hjm",
        "outputId": "67fa432b-b0c5-461b-9764-913a1c0bb543"
      },
      "execution_count": 12,
      "outputs": [
        {
          "output_type": "execute_result",
          "data": {
            "text/plain": [
              "(2, 4)"
            ]
          },
          "metadata": {},
          "execution_count": 12
        }
      ]
    },
    {
      "cell_type": "markdown",
      "source": [
        "# **Check Data Type of np array**\n",
        "\n",
        "\n",
        "> it shows which type of data inside the array\n",
        "\n"
      ],
      "metadata": {
        "id": "WFnI6Wkl-1sx"
      }
    },
    {
      "cell_type": "code",
      "source": [
        "a.dtype #it shows which type of data inside the array"
      ],
      "metadata": {
        "colab": {
          "base_uri": "https://localhost:8080/"
        },
        "id": "7eanJJ6k_JqU",
        "outputId": "5169b7fc-fb98-4279-9d21-5d0d917cca1d"
      },
      "execution_count": 13,
      "outputs": [
        {
          "output_type": "execute_result",
          "data": {
            "text/plain": [
              "dtype('int64')"
            ]
          },
          "metadata": {},
          "execution_count": 13
        }
      ]
    },
    {
      "cell_type": "code",
      "source": [
        "b.dtype"
      ],
      "metadata": {
        "colab": {
          "base_uri": "https://localhost:8080/"
        },
        "id": "GSpuLnU__QEK",
        "outputId": "8982a65c-c23f-46f6-b8c7-2ba88f144343"
      },
      "execution_count": 14,
      "outputs": [
        {
          "output_type": "execute_result",
          "data": {
            "text/plain": [
              "dtype('int64')"
            ]
          },
          "metadata": {},
          "execution_count": 14
        }
      ]
    },
    {
      "cell_type": "markdown",
      "source": [
        "# **Create Ones**"
      ],
      "metadata": {
        "id": "ptP3zBXLCWTy"
      }
    },
    {
      "cell_type": "code",
      "source": [
        "mx_1s = np.ones(5)\n",
        "print(mx_1s)"
      ],
      "metadata": {
        "colab": {
          "base_uri": "https://localhost:8080/"
        },
        "id": "E76VfaKICaBW",
        "outputId": "e44b9559-d4da-4113-f531-b83635dbed25"
      },
      "execution_count": 16,
      "outputs": [
        {
          "output_type": "stream",
          "name": "stdout",
          "text": [
            "[1. 1. 1. 1. 1.]\n"
          ]
        }
      ]
    },
    {
      "cell_type": "markdown",
      "source": [
        "**Want to change the dtype data type**"
      ],
      "metadata": {
        "id": "xgNbnjL3Cpxd"
      }
    },
    {
      "cell_type": "code",
      "source": [
        "mx_1s = mx_1s.astype(int)"
      ],
      "metadata": {
        "id": "J17KobfdChZj"
      },
      "execution_count": 21,
      "outputs": []
    },
    {
      "cell_type": "markdown",
      "source": [
        "**Check data type**"
      ],
      "metadata": {
        "id": "d8Qt5tSoDEGC"
      }
    },
    {
      "cell_type": "code",
      "source": [
        "mx_1s.dtype"
      ],
      "metadata": {
        "colab": {
          "base_uri": "https://localhost:8080/"
        },
        "id": "omm5N5iYDAgp",
        "outputId": "2141e0e1-9f06-4278-837d-1be587ea4f97"
      },
      "execution_count": 22,
      "outputs": [
        {
          "output_type": "execute_result",
          "data": {
            "text/plain": [
              "dtype('int64')"
            ]
          },
          "metadata": {},
          "execution_count": 22
        }
      ]
    },
    {
      "cell_type": "markdown",
      "source": [
        "**Create n dimensional ones array**"
      ],
      "metadata": {
        "id": "2mQJFrNXDc7z"
      }
    },
    {
      "cell_type": "code",
      "source": [
        "mx_1s = np.ones((3,4))\n",
        "print(mx_1s)"
      ],
      "metadata": {
        "colab": {
          "base_uri": "https://localhost:8080/"
        },
        "id": "cOkm03PPDKNS",
        "outputId": "cf80c708-3a02-4e23-bfc7-e73b58f163d0"
      },
      "execution_count": 23,
      "outputs": [
        {
          "output_type": "stream",
          "name": "stdout",
          "text": [
            "[[1. 1. 1. 1.]\n",
            " [1. 1. 1. 1.]\n",
            " [1. 1. 1. 1.]]\n"
          ]
        }
      ]
    },
    {
      "cell_type": "markdown",
      "source": [
        "# **Create Zeros**"
      ],
      "metadata": {
        "id": "rv2ZAdWqDv7n"
      }
    },
    {
      "cell_type": "code",
      "source": [
        "mx_os = np.zeros((3,4))\n",
        "print(mx_os)"
      ],
      "metadata": {
        "colab": {
          "base_uri": "https://localhost:8080/"
        },
        "id": "lKaHwX4YD0NX",
        "outputId": "80df7ccd-8cc3-435f-e9be-3cd5eb46a60b"
      },
      "execution_count": 24,
      "outputs": [
        {
          "output_type": "stream",
          "name": "stdout",
          "text": [
            "[[0. 0. 0. 0.]\n",
            " [0. 0. 0. 0.]\n",
            " [0. 0. 0. 0.]]\n"
          ]
        }
      ]
    },
    {
      "cell_type": "markdown",
      "source": [
        "# **Empty Array**"
      ],
      "metadata": {
        "id": "UfzsJM1DD5E9"
      }
    },
    {
      "cell_type": "code",
      "source": [
        "mx_emp = np.empty((3,3))\n",
        "print(mx_emp)"
      ],
      "metadata": {
        "colab": {
          "base_uri": "https://localhost:8080/"
        },
        "id": "tzoxC31CEEGf",
        "outputId": "3f4c5ccf-b15f-45f1-93d2-99ef8b70b35f"
      },
      "execution_count": 25,
      "outputs": [
        {
          "output_type": "stream",
          "name": "stdout",
          "text": [
            "[[4.68164088e-310 0.00000000e+000 0.00000000e+000]\n",
            " [0.00000000e+000 0.00000000e+000 0.00000000e+000]\n",
            " [0.00000000e+000 0.00000000e+000 0.00000000e+000]]\n"
          ]
        }
      ]
    },
    {
      "cell_type": "markdown",
      "source": [
        "# **np array functions**"
      ],
      "metadata": {
        "id": "goF3NMNKGHDN"
      }
    },
    {
      "cell_type": "markdown",
      "source": [
        "**arrange**"
      ],
      "metadata": {
        "id": "-_OxNQZyGdaq"
      }
    },
    {
      "cell_type": "code",
      "source": [
        "mx_1d = np.arange(1,13,1) #this function will make an ordered array from starting to end-1\n",
        "print(mx_1d)"
      ],
      "metadata": {
        "colab": {
          "base_uri": "https://localhost:8080/"
        },
        "id": "aPOWskIWGLJ8",
        "outputId": "a532ca5d-c243-48f2-adec-eb434c902e47"
      },
      "execution_count": 38,
      "outputs": [
        {
          "output_type": "stream",
          "name": "stdout",
          "text": [
            "[ 1  2  3  4  5  6  7  8  9 10 11 12]\n"
          ]
        }
      ]
    },
    {
      "cell_type": "markdown",
      "source": [
        "**linspace**"
      ],
      "metadata": {
        "id": "vVxyrExFLrf0"
      }
    },
    {
      "cell_type": "code",
      "source": [
        "mx_1d = np.linspace(1,13,4) #this function will make an ordered array from starting to end-1\n",
        "print(mx_1d)"
      ],
      "metadata": {
        "colab": {
          "base_uri": "https://localhost:8080/"
        },
        "id": "0yTCnLdfG8QY",
        "outputId": "f99a1848-7a12-429e-f5cc-bc737525c6b0"
      },
      "execution_count": 45,
      "outputs": [
        {
          "output_type": "stream",
          "name": "stdout",
          "text": [
            "[ 1.  5.  9. 13.]\n"
          ]
        }
      ]
    },
    {
      "cell_type": "markdown",
      "source": [
        "**reshape**"
      ],
      "metadata": {
        "id": "w5Kp-lcjMWxz"
      }
    },
    {
      "cell_type": "code",
      "source": [
        "mx_1d = mx_1d.reshape(2,2)\n",
        "print(mx_1d)"
      ],
      "metadata": {
        "colab": {
          "base_uri": "https://localhost:8080/"
        },
        "id": "19nYf_86MCiZ",
        "outputId": "76057b68-126a-4aa6-c97b-26be5238d2f8"
      },
      "execution_count": 46,
      "outputs": [
        {
          "output_type": "stream",
          "name": "stdout",
          "text": [
            "[[ 1.  5.]\n",
            " [ 9. 13.]]\n"
          ]
        }
      ]
    },
    {
      "cell_type": "markdown",
      "source": [
        "**ravel**"
      ],
      "metadata": {
        "id": "4TZ276GFMk4_"
      }
    },
    {
      "cell_type": "code",
      "source": [
        "mx_1d = np.ones((2,2))\n",
        "print(mx_1d)"
      ],
      "metadata": {
        "colab": {
          "base_uri": "https://localhost:8080/"
        },
        "id": "A6miLCr6Mhzq",
        "outputId": "596d9aef-5897-4c18-d812-b85f6bfb7697"
      },
      "execution_count": 53,
      "outputs": [
        {
          "output_type": "stream",
          "name": "stdout",
          "text": [
            "[[1. 1.]\n",
            " [1. 1.]]\n"
          ]
        }
      ]
    },
    {
      "cell_type": "code",
      "source": [
        "mx_1d = mx_1d.ravel()\n",
        "print(mx_1d)"
      ],
      "metadata": {
        "colab": {
          "base_uri": "https://localhost:8080/"
        },
        "id": "B75n9L2iMo99",
        "outputId": "b2385a3f-95ce-4c2d-d941-1c0a62c2298b"
      },
      "execution_count": 52,
      "outputs": [
        {
          "output_type": "stream",
          "name": "stdout",
          "text": [
            "[1. 1. 1. 1.]\n"
          ]
        }
      ]
    },
    {
      "cell_type": "markdown",
      "source": [
        "**flattern**"
      ],
      "metadata": {
        "id": "lGxqT10vNZ9Q"
      }
    },
    {
      "cell_type": "code",
      "source": [
        "mx_1d = mx_1d.flatten()\n",
        "print(mx_1d)"
      ],
      "metadata": {
        "colab": {
          "base_uri": "https://localhost:8080/"
        },
        "id": "BdPqdRxmNY7P",
        "outputId": "55a78180-1452-42f9-e628-5326023e0993"
      },
      "execution_count": 54,
      "outputs": [
        {
          "output_type": "stream",
          "name": "stdout",
          "text": [
            "[1. 1. 1. 1.]\n"
          ]
        }
      ]
    },
    {
      "cell_type": "markdown",
      "source": [
        "**Transpose**"
      ],
      "metadata": {
        "id": "5U3XtyRiNm4i"
      }
    },
    {
      "cell_type": "code",
      "source": [
        "mx_nd = np.empty((2,3))\n",
        "print(mx_nd)"
      ],
      "metadata": {
        "colab": {
          "base_uri": "https://localhost:8080/"
        },
        "id": "dXX3WGLQNsCF",
        "outputId": "13c3fb91-8488-4ccc-a16b-adaf77b09f6c"
      },
      "execution_count": 56,
      "outputs": [
        {
          "output_type": "stream",
          "name": "stdout",
          "text": [
            "[[4.9e-324 1.5e-323 2.5e-323]\n",
            " [3.5e-323 4.4e-323 5.4e-323]]\n"
          ]
        }
      ]
    },
    {
      "cell_type": "code",
      "source": [
        "mx_nd = mx_nd.transpose()\n",
        "print(mx_nd)"
      ],
      "metadata": {
        "colab": {
          "base_uri": "https://localhost:8080/"
        },
        "id": "SfNPzzj_Nzbx",
        "outputId": "92d664cb-7b3a-4d55-ec04-f5ffe7e4a1d6"
      },
      "execution_count": 57,
      "outputs": [
        {
          "output_type": "stream",
          "name": "stdout",
          "text": [
            "[[4.9e-324 3.5e-323]\n",
            " [1.5e-323 4.4e-323]\n",
            " [2.5e-323 5.4e-323]]\n"
          ]
        }
      ]
    }
  ]
}